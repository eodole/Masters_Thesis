{
 "cells": [
  {
   "cell_type": "code",
   "execution_count": 1,
   "metadata": {},
   "outputs": [],
   "source": [
    "import numpy as np\n",
    "import utils "
   ]
  },
  {
   "cell_type": "code",
   "execution_count": 2,
   "metadata": {},
   "outputs": [
    {
     "data": {
      "text/plain": [
       "array([[ 1.96890051,  5.42819023,  6.70086637, 45.72703547],\n",
       "       [ 0.07697296, -2.27926541,  0.33230012,  1.00063138],\n",
       "       [ 0.95823007,  1.85693742,  2.00253341,  4.34935866],\n",
       "       ...,\n",
       "       [ 1.03843537,  2.58955708,  1.87776395,  6.12520337],\n",
       "       [-0.61635113,  0.08170958,  0.15831407,  1.83555498],\n",
       "       [-0.56925504,  0.89155823, -0.23067253,  1.29847649]])"
      ]
     },
     "execution_count": 2,
     "metadata": {},
     "output_type": "execute_result"
    }
   ],
   "source": [
    "utils.generate_full_data(1000, True, \"test1\")"
   ]
  },
  {
   "cell_type": "code",
   "execution_count": 5,
   "metadata": {},
   "outputs": [],
   "source": [
    "data = np.loadtxt(\"./gen_data/test1.csv\", delimiter = \",\")"
   ]
  },
  {
   "cell_type": "code",
   "execution_count": 6,
   "metadata": {},
   "outputs": [
    {
     "data": {
      "text/plain": [
       "(1000, 4)"
      ]
     },
     "execution_count": 6,
     "metadata": {},
     "output_type": "execute_result"
    }
   ],
   "source": [
    "data.shape"
   ]
  },
  {
   "cell_type": "markdown",
   "metadata": {},
   "source": [
    "Okay the goal is to generate causal data on a very small dataset where\n",
    "\n",
    "A -> B \n",
    "\n",
    "A -> C -> D\n",
    "\n",
    "with the following equation set \n",
    "\n",
    "$$ A \\sim N(1,1) $$ \n",
    "$$ B = A + A^2 + N(0,1) $$ \n",
    "$$ C = A^3 + N(0,1) $$ \n",
    "$$ D = C^2 + 1 + N(0,1) $$ "
   ]
  }
 ],
 "metadata": {
  "kernelspec": {
   "display_name": "thesis3",
   "language": "python",
   "name": "python3"
  },
  "language_info": {
   "codemirror_mode": {
    "name": "ipython",
    "version": 3
   },
   "file_extension": ".py",
   "mimetype": "text/x-python",
   "name": "python",
   "nbconvert_exporter": "python",
   "pygments_lexer": "ipython3",
   "version": "3.12.2"
  }
 },
 "nbformat": 4,
 "nbformat_minor": 2
}
