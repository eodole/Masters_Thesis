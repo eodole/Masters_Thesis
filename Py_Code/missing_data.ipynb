{
 "cells": [
  {
   "cell_type": "code",
   "execution_count": 22,
   "metadata": {},
   "outputs": [],
   "source": [
    "import numpy as np\n",
    "import utils \n",
    "import pandas as pd \n",
    "from sklearn.impute import * "
   ]
  },
  {
   "cell_type": "markdown",
   "metadata": {},
   "source": [
    "Okay the goal is to generate causal data on a very small dataset where\n",
    "\n",
    "A -> B \n",
    "\n",
    "A -> C -> D\n",
    "\n",
    "with the following equation set \n",
    "\n",
    "$$ A \\sim N(1,1) $$ \n",
    "$$ B = A + A^2 + N(0,1) $$ \n",
    "$$ C = A^3 + N(0,1) $$ \n",
    "$$ D = C^2 + 1 + N(0,1) $$ "
   ]
  },
  {
   "cell_type": "code",
   "execution_count": 2,
   "metadata": {},
   "outputs": [
    {
     "data": {
      "text/plain": [
       "array([[-2.92772059e-01,  5.43301504e-02,  7.44621110e-01,\n",
       "         3.11351255e-01],\n",
       "       [-9.36995372e-01, -3.42950429e-01, -1.38058378e+00,\n",
       "         5.16373575e+00],\n",
       "       [ 1.43754748e+00,  4.38254314e+00,  2.95831418e+00,\n",
       "         9.41467130e+00],\n",
       "       ...,\n",
       "       [ 2.16281987e+00,  4.26684901e+00,  8.82894637e+00,\n",
       "         7.77354650e+01],\n",
       "       [-9.90969658e-01,  5.81559064e-01, -2.07607246e+00,\n",
       "         4.97567744e+00],\n",
       "       [ 2.86238481e+00,  1.19284200e+01,  2.44347021e+01,\n",
       "         5.97114542e+02]])"
      ]
     },
     "execution_count": 2,
     "metadata": {},
     "output_type": "execute_result"
    }
   ],
   "source": [
    "utils.generate_full_data(1000, True, \"test1\")"
   ]
  },
  {
   "cell_type": "code",
   "execution_count": 3,
   "metadata": {},
   "outputs": [],
   "source": [
    "data = np.loadtxt(\"./gen_data/test1.csv\", delimiter = \",\")"
   ]
  },
  {
   "cell_type": "code",
   "execution_count": 4,
   "metadata": {},
   "outputs": [
    {
     "data": {
      "text/plain": [
       "(1000, 4)"
      ]
     },
     "execution_count": 4,
     "metadata": {},
     "output_type": "execute_result"
    }
   ],
   "source": [
    "data.shape"
   ]
  },
  {
   "cell_type": "code",
   "execution_count": 7,
   "metadata": {},
   "outputs": [],
   "source": [
    "mcar_data = utils.v_induce_missing_data(data, 0.2)"
   ]
  },
  {
   "cell_type": "code",
   "execution_count": 8,
   "metadata": {},
   "outputs": [
    {
     "data": {
      "text/plain": [
       "(1000, 4)"
      ]
     },
     "execution_count": 8,
     "metadata": {},
     "output_type": "execute_result"
    }
   ],
   "source": [
    "mcar_data.shape"
   ]
  },
  {
   "cell_type": "markdown",
   "metadata": {},
   "source": [
    "so next I am checking approx what percentage of the data is missing, I should also look for any complete cases next "
   ]
  },
  {
   "cell_type": "code",
   "execution_count": 11,
   "metadata": {},
   "outputs": [
    {
     "data": {
      "text/plain": [
       "0.20775"
      ]
     },
     "execution_count": 11,
     "metadata": {},
     "output_type": "execute_result"
    }
   ],
   "source": [
    "np.sum(np.isnan(mcar_data)) / (data.shape[0]* data.shape[1])"
   ]
  },
  {
   "cell_type": "code",
   "execution_count": 14,
   "metadata": {},
   "outputs": [],
   "source": [
    "mcar2 = pd.DataFrame(mcar_data)\n",
    "mcar2.dropna(axis=0, inplace=True)"
   ]
  },
  {
   "cell_type": "markdown",
   "metadata": {},
   "source": [
    "so here I am testing to see how many would result in a complete case "
   ]
  },
  {
   "cell_type": "code",
   "execution_count": 17,
   "metadata": {},
   "outputs": [
    {
     "name": "stdout",
     "output_type": "stream",
     "text": [
      "Number complete case: (394, 4)\n",
      "Percentage complete cases: 0.394\n"
     ]
    }
   ],
   "source": [
    "print(f\"Number complete case: {mcar2.shape}\")\n",
    "print(f\"Percentage complete cases: {mcar2.shape[0]/1000}\") "
   ]
  },
  {
   "cell_type": "markdown",
   "metadata": {},
   "source": [
    "now i want to save the data that i created for later reuse, so ill save the mcar and the complete cases "
   ]
  },
  {
   "cell_type": "code",
   "execution_count": null,
   "metadata": {},
   "outputs": [],
   "source": [
    "# commented out so they're not rerun in run all \n",
    "# np.savetxt(\"./gen_data/mcar_test1.csv\", mcar_data, delimiter=\",\")"
   ]
  },
  {
   "cell_type": "code",
   "execution_count": null,
   "metadata": {},
   "outputs": [],
   "source": [
    "\n",
    "# mcar2.to_csv(\"./gen_data/complete_cases_test1.csv\")"
   ]
  },
  {
   "cell_type": "markdown",
   "metadata": {},
   "source": [
    "next task would be imputation "
   ]
  },
  {
   "cell_type": "code",
   "execution_count": 25,
   "metadata": {},
   "outputs": [],
   "source": [
    "imp = SimpleImputer(strategy=\"mean\")\n",
    "\n",
    "mean_imp = imp.fit_transform(mcar_data)"
   ]
  },
  {
   "cell_type": "code",
   "execution_count": null,
   "metadata": {},
   "outputs": [],
   "source": [
    "# np.savetxt(\"./gen_data/mean_imp_test1.csv\", mean_imp, delimiter=\",\")"
   ]
  },
  {
   "cell_type": "code",
   "execution_count": null,
   "metadata": {},
   "outputs": [],
   "source": []
  }
 ],
 "metadata": {
  "kernelspec": {
   "display_name": "thesis3",
   "language": "python",
   "name": "python3"
  },
  "language_info": {
   "codemirror_mode": {
    "name": "ipython",
    "version": 3
   },
   "file_extension": ".py",
   "mimetype": "text/x-python",
   "name": "python",
   "nbconvert_exporter": "python",
   "pygments_lexer": "ipython3",
   "version": "3.12.2"
  }
 },
 "nbformat": 4,
 "nbformat_minor": 2
}
